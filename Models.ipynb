{
 "cells": [
  {
   "cell_type": "code",
   "execution_count": 1,
   "metadata": {},
   "outputs": [],
   "source": [
    "import pandas as pd\n",
    "import numpy as np\n",
    "import matplotlib.pyplot as plt\n",
    "import seaborn as sns\n",
    "%matplotlib inline\n",
    "x_test = pd.read_csv(\"pump_test_for_models.csv\")\n",
    "x_train = pd.read_csv(\"pump_train_for_models.csv\")\n",
    "y_test = pd.read_csv(\"SubmissionFormat.csv\")\n",
    "y_train = pd.read_csv(\"Training_Set_Lables.csv\")"
   ]
  },
  {
   "cell_type": "code",
   "execution_count": 2,
   "metadata": {
    "scrolled": true
   },
   "outputs": [],
   "source": [
    "#remove once ive update the EDA file\n",
    "\n",
    "y_train = y_train.drop('id', axis = 1)"
   ]
  },
  {
   "cell_type": "code",
   "execution_count": 3,
   "metadata": {
    "scrolled": true
   },
   "outputs": [
    {
     "name": "stdout",
     "output_type": "stream",
     "text": [
      "the shape is:  (59400, 17)\n",
      "<class 'pandas.core.frame.DataFrame'>\n",
      "RangeIndex: 59400 entries, 0 to 59399\n",
      "Data columns (total 17 columns):\n",
      " #   Column                 Non-Null Count  Dtype  \n",
      "---  ------                 --------------  -----  \n",
      " 0   amount_tsh             59400 non-null  float64\n",
      " 1   funder                 59400 non-null  object \n",
      " 2   installer              59400 non-null  object \n",
      " 3   basin                  59400 non-null  object \n",
      " 4   population             59400 non-null  int64  \n",
      " 5   public_meeting         59400 non-null  bool   \n",
      " 6   scheme_management      59400 non-null  object \n",
      " 7   permit                 59400 non-null  bool   \n",
      " 8   construction_year      59400 non-null  int64  \n",
      " 9   extraction_type_class  59400 non-null  object \n",
      " 10  payment                59400 non-null  object \n",
      " 11  water_quality          59400 non-null  object \n",
      " 12  quantity               59400 non-null  object \n",
      " 13  source                 59400 non-null  object \n",
      " 14  source_class           59400 non-null  object \n",
      " 15  waterpoint_type_group  59400 non-null  object \n",
      " 16  last_check             59400 non-null  int64  \n",
      "dtypes: bool(2), float64(1), int64(3), object(11)\n",
      "memory usage: 6.9+ MB\n"
     ]
    }
   ],
   "source": [
    "print(\"the shape is: \", x_train.shape)\n",
    "x_train.info()"
   ]
  },
  {
   "cell_type": "code",
   "execution_count": 4,
   "metadata": {
    "scrolled": true
   },
   "outputs": [
    {
     "name": "stdout",
     "output_type": "stream",
     "text": [
      "the shape is:  (14850, 17)\n",
      "<class 'pandas.core.frame.DataFrame'>\n",
      "RangeIndex: 14850 entries, 0 to 14849\n",
      "Data columns (total 17 columns):\n",
      " #   Column                 Non-Null Count  Dtype  \n",
      "---  ------                 --------------  -----  \n",
      " 0   amount_tsh             14850 non-null  float64\n",
      " 1   funder                 14850 non-null  object \n",
      " 2   installer              14850 non-null  object \n",
      " 3   basin                  14850 non-null  object \n",
      " 4   population             14850 non-null  int64  \n",
      " 5   public_meeting         14850 non-null  bool   \n",
      " 6   scheme_management      14850 non-null  object \n",
      " 7   permit                 14850 non-null  bool   \n",
      " 8   construction_year      14850 non-null  int64  \n",
      " 9   extraction_type_class  14850 non-null  object \n",
      " 10  payment                14850 non-null  object \n",
      " 11  water_quality          14850 non-null  object \n",
      " 12  quantity               14850 non-null  object \n",
      " 13  source                 14850 non-null  object \n",
      " 14  source_class           14850 non-null  object \n",
      " 15  waterpoint_type_group  14850 non-null  object \n",
      " 16  last_check             14850 non-null  int64  \n",
      "dtypes: bool(2), float64(1), int64(3), object(11)\n",
      "memory usage: 1.7+ MB\n"
     ]
    }
   ],
   "source": [
    "print(\"the shape is: \", x_test.shape)\n",
    "x_test.info()"
   ]
  },
  {
   "cell_type": "code",
   "execution_count": 5,
   "metadata": {},
   "outputs": [
    {
     "name": "stdout",
     "output_type": "stream",
     "text": [
      "Index(['funder', 'installer', 'basin', 'scheme_management',\n",
      "       'extraction_type_class', 'payment', 'water_quality', 'quantity',\n",
      "       'source', 'source_class', 'waterpoint_type_group'],\n",
      "      dtype='object')\n",
      "there are:  11 columns\n"
     ]
    }
   ],
   "source": [
    "# geting the categorical columns\n",
    "\n",
    "cat_columns = x_train.select_dtypes(\"object\")\n",
    "print(cat_columns.columns)\n",
    "print(\"there are: \", len((cat_columns.columns)), \"columns\")"
   ]
  },
  {
   "cell_type": "code",
   "execution_count": 6,
   "metadata": {},
   "outputs": [
    {
     "name": "stdout",
     "output_type": "stream",
     "text": [
      "Index(['funder', 'installer', 'basin', 'scheme_management',\n",
      "       'extraction_type_class', 'payment', 'water_quality', 'quantity',\n",
      "       'source', 'source_class', 'waterpoint_type_group'],\n",
      "      dtype='object')\n",
      "there are:  11 columns\n"
     ]
    }
   ],
   "source": [
    "cat_columns1 = x_test.select_dtypes(\"object\")\n",
    "print(cat_columns1.columns)\n",
    "print(\"there are: \", len((cat_columns1.columns)), \"columns\")"
   ]
  },
  {
   "cell_type": "code",
   "execution_count": 7,
   "metadata": {
    "scrolled": true
   },
   "outputs": [
    {
     "data": {
      "text/plain": [
       "82"
      ]
     },
     "execution_count": 7,
     "metadata": {},
     "output_type": "execute_result"
    }
   ],
   "source": [
    "# getting dummies for the X_train\n",
    "\n",
    "x_train = pd.get_dummies(x_train)\n",
    "\n",
    "len(x_train.columns)"
   ]
  },
  {
   "cell_type": "code",
   "execution_count": 8,
   "metadata": {},
   "outputs": [
    {
     "data": {
      "text/plain": [
       "82"
      ]
     },
     "execution_count": 8,
     "metadata": {},
     "output_type": "execute_result"
    }
   ],
   "source": [
    "# getting dummies for the X_test\n",
    "\n",
    "x_test = pd.get_dummies(x_test)\n",
    "\n",
    "len(x_test.columns)"
   ]
  },
  {
   "cell_type": "markdown",
   "metadata": {},
   "source": [
    "# Random Forest"
   ]
  },
  {
   "cell_type": "code",
   "execution_count": 9,
   "metadata": {},
   "outputs": [
    {
     "name": "stdout",
     "output_type": "stream",
     "text": [
      "0.8030\n"
     ]
    }
   ],
   "source": [
    "#fit the model \n",
    "from sklearn.ensemble import RandomForestClassifier\n",
    "from sklearn.model_selection import GridSearchCV\n",
    "\n",
    "rf = RandomForestClassifier(criterion='gini',\n",
    "                                min_samples_split = 6,\n",
    "                                n_estimators=1000,\n",
    "                                max_features='auto',\n",
    "                                oob_score=True,\n",
    "                                random_state=42,\n",
    "                                n_jobs=-1)\n",
    "                            \n",
    "rf.fit(x_train, y_train.values\n",
    "\n",
    "\n",
    "\n",
    "\n",
    "\n",
    "print(\"%.4f\" % rf.oob_score_)"
   ]
  },
  {
   "cell_type": "code",
   "execution_count": 21,
   "metadata": {},
   "outputs": [],
   "source": [
    "#generating submission file\n",
    "\n",
    "predictions = rf.predict(x_test)\n",
    "\n",
    "y_test = pd.read_csv(\"SubmissionFormat.csv\")\n",
    "pred = pd.DataFrame(predictions, columns = [y_test.columns[1]])\n",
    "del y_test['status_group']\n",
    "\n",
    "y_test = pd.concat((y_test, pred), axis = 1)\n",
    "y_test.to_csv('SubmissionFormat.csv', index = False)"
   ]
  },
  {
   "cell_type": "markdown",
   "metadata": {},
   "source": [
    "## Submission score: 0.8071"
   ]
  },
  {
   "cell_type": "markdown",
   "metadata": {},
   "source": [
    "# Gradient Boost Classifier"
   ]
  },
  {
   "cell_type": "code",
   "execution_count": 10,
   "metadata": {},
   "outputs": [],
   "source": [
    "from sklearn.datasets import make_classification\n",
    "from sklearn.ensemble import GradientBoostingClassifier"
   ]
  },
  {
   "cell_type": "code",
   "execution_count": null,
   "metadata": {},
   "outputs": [],
   "source": [
    "clf = GradientBoostingClassifier(learning_rate=0.1,\n",
    "                                n_estimators=100,\n",
    "                                criterion='friedman_mse',\n",
    "                                min_sample=2,\n",
    "                                random_state=42,\n",
    "                                max_depth=3)\n",
    "\n",
    "clf.fit(x_train, y_train)"
   ]
  },
  {
   "cell_type": "code",
   "execution_count": 20,
   "metadata": {},
   "outputs": [],
   "source": [
    "predictions = clf.predict(x_test)\n",
    "\n",
    "y_test = pd.read_csv(\"SubmissionFormat.csv\")\n",
    "pred = pd.DataFrame(predictions, columns = [y_test.columns[1]])\n",
    "del y_test['status_group']\n",
    "\n",
    "y_test = pd.concat((y_test, pred), axis = 1)\n",
    "y_test.to_csv('SubmissionFormat_GBC.csv', index = False)"
   ]
  },
  {
   "cell_type": "code",
   "execution_count": null,
   "metadata": {},
   "outputs": [],
   "source": [
    "#predictions\n",
    "\n",
    "GradientBoostingClassifier(random_state=42)\n",
    "clf.predict(x_test[:2])\n",
    "array([1, 0])"
   ]
  },
  {
   "cell_type": "markdown",
   "metadata": {},
   "source": [
    "## Submission score: 0.7422"
   ]
  }
 ],
 "metadata": {
  "kernelspec": {
   "display_name": "Python 3",
   "language": "python",
   "name": "python3"
  },
  "language_info": {
   "codemirror_mode": {
    "name": "ipython",
    "version": 3
   },
   "file_extension": ".py",
   "mimetype": "text/x-python",
   "name": "python",
   "nbconvert_exporter": "python",
   "pygments_lexer": "ipython3",
   "version": "3.8.3"
  }
 },
 "nbformat": 4,
 "nbformat_minor": 4
}
